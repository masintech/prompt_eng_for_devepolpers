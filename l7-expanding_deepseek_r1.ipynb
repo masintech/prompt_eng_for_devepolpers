{
 "cells": [
  {
   "cell_type": "markdown",
   "id": "8de529e8-3891-4f47-8585-65b92b80bbf7",
   "metadata": {},
   "source": [
    "# Expanding\n",
    "In this lesson, you will generate customer service emails that are tailored to each customer's review.\n",
    "\n",
    "## Setup"
   ]
  },
  {
   "cell_type": "code",
   "execution_count": 1,
   "id": "e23399a9",
   "metadata": {
    "height": 132
   },
   "outputs": [],
   "source": [
    "import os\n",
    "\n",
    "from dotenv import load_dotenv, find_dotenv\n",
    "_ = load_dotenv(find_dotenv()) # read local .env file\n",
    "from openai import OpenAI\n",
    "openai = OpenAI(base_url='http://localhost:11434/v1', api_key='ollama')\n",
    "\n",
    "from IPython.display import display, HTML, Markdown\n",
    "MODEL = \"deepseek-r1:latest\""
   ]
  },
  {
   "cell_type": "code",
   "execution_count": 4,
   "id": "4c943900-98db-40b3-b639-7822ee2c5fd8",
   "metadata": {
    "height": 149
   },
   "outputs": [],
   "source": [
    "def get_completion(prompt, temperature = 0, model=MODEL): # Andrew mentioned that the prompt/ completion paradigm is preferable for this class\n",
    "    messages = [{\"role\": \"user\", \"content\": prompt}]\n",
    "    response = openai.chat.completions.create(\n",
    "        model=model,\n",
    "        messages=messages,\n",
    "        temperature = temperature, # this is the degree of randomness of the model's output\n",
    "    )\n",
    "    return response.choices[0].message.content"
   ]
  },
  {
   "cell_type": "markdown",
   "id": "f8ceea77-990a-4c64-bb49-3ba65eb155d2",
   "metadata": {},
   "source": [
    "## Customize the automated reply to a customer email"
   ]
  },
  {
   "cell_type": "code",
   "execution_count": 2,
   "id": "c30c4239",
   "metadata": {
    "height": 642
   },
   "outputs": [],
   "source": [
    "# given the sentiment from the lesson on \"inferring\",\n",
    "# and the original customer message, customize the email\n",
    "sentiment = \"negative\"\n",
    "\n",
    "# review for a blender\n",
    "review = f\"\"\"\n",
    "So, they still had the 17 piece system on seasonal \\\n",
    "sale for around $49 in the month of November, about \\\n",
    "half off, but for some reason (call it price gouging) \\\n",
    "around the second week of December the prices all went \\\n",
    "up to about anywhere from between $70-$89 for the same \\\n",
    "system. And the 11 piece system went up around $10 or \\\n",
    "so in price also from the earlier sale price of $29. \\\n",
    "So it looks okay, but if you look at the base, the part \\\n",
    "where the blade locks into place doesn’t look as good \\\n",
    "as in previous editions from a few years ago, but I \\\n",
    "plan to be very gentle with it (example, I crush \\\n",
    "very hard items like beans, ice, rice, etc. in the \\ \n",
    "blender first then pulverize them in the serving size \\\n",
    "I want in the blender then switch to the whipping \\\n",
    "blade for a finer flour, and use the cross cutting blade \\\n",
    "first when making smoothies, then use the flat blade \\\n",
    "if I need them finer/less pulpy). Special tip when making \\\n",
    "smoothies, finely cut and freeze the fruits and \\\n",
    "vegetables (if using spinach-lightly stew soften the \\ \n",
    "spinach then freeze until ready for use-and if making \\\n",
    "sorbet, use a small to medium sized food processor) \\ \n",
    "that you plan to use that way you can avoid adding so \\\n",
    "much ice if at all-when making your smoothie. \\\n",
    "After about a year, the motor was making a funny noise. \\\n",
    "I called customer service but the warranty expired \\\n",
    "already, so I had to buy another one. FYI: The overall \\\n",
    "quality has gone done in these types of products, so \\\n",
    "they are kind of counting on brand recognition and \\\n",
    "consumer loyalty to maintain sales. Got it in about \\\n",
    "two days.\n",
    "\"\"\""
   ]
  },
  {
   "cell_type": "code",
   "execution_count": 5,
   "id": "d5403f73",
   "metadata": {
    "height": 302
   },
   "outputs": [
    {
     "name": "stdout",
     "output_type": "stream",
     "text": [
      "<think>\n",
      "Okay, I need to help the user by writing a reply email based on their query. Let me break down what they're asking for.\n",
      "\n",
      "First, the task is to generate an email reply to a valued customer. The review provided has a negative sentiment, so according to the instructions, I should apologize and suggest contacting customer service.\n",
      "\n",
      "Looking at the review details, it mentions price increases during the holiday season, which affected the customer's experience. They also talk about product quality issues after a year of use, including a warranty issue that required purchasing a new one. These are specific points I can use in the email to make it more personal and genuine.\n",
      "\n",
      "The tone needs to be concise and professional. I should start with a thank you for taking the time to share their feedback. Then, express regret about the negative experience they had. It's important to acknowledge the specific issues mentioned, like the price hikes and the motor noise after a year of use. Apologizing sincerely is key here.\n",
      "\n",
      "After apologizing, I should offer assistance by suggesting they reach out to customer service for further help or replacements. Ending with appreciation for their feedback shows that we value their input and are committed to improving.\n",
      "\n",
      "I also need to sign off as AI customer agent. Keeping the email short but covering all necessary points without being too lengthy is important. Let me structure it step by step: thank you, express regret, mention specific issues, apologize, offer help, and conclude with appreciation.\n",
      "</think>\n",
      "\n",
      "Subject: Thank You for Your Feedback  \n",
      "\n",
      "Dear [Customer's Name],  \n",
      "\n",
      "Thank you for taking the time to share your feedback regarding the blender system during the holiday season. We sincerely apologize for the disappointing experience you recently had with our product.  \n",
      "\n",
      "We understand that the price increases during this period, as well as the quality concerns you experienced after a year of use, were not what we intended. Please know that we value your feedback and are committed to improving our products and services.  \n",
      "\n",
      "If you have any further questions or need assistance, please don’t hesitate to reach out to our customer service team. We’re here to help!  \n",
      "\n",
      "Thank you again for sharing your thoughts with us.  \n",
      "\n",
      "Best regards,  \n",
      "AI Customer Agent\n"
     ]
    }
   ],
   "source": [
    "prompt = f\"\"\"\n",
    "You are a customer service AI assistant.\n",
    "Your task is to send an email reply to a valued customer.\n",
    "Given the customer email delimited by ```, \\\n",
    "Generate a reply to thank the customer for their review.\n",
    "If the sentiment is positive or neutral, thank them for \\\n",
    "their review.\n",
    "If the sentiment is negative, apologize and suggest that \\\n",
    "they can reach out to customer service. \n",
    "Make sure to use specific details from the review.\n",
    "Write in a concise and professional tone.\n",
    "Sign the email as `AI customer agent`.\n",
    "Customer review: ```{review}```\n",
    "Review sentiment: {sentiment}\n",
    "\"\"\"\n",
    "response = get_completion(prompt)\n",
    "print(response)"
   ]
  },
  {
   "cell_type": "markdown",
   "id": "55605ee0-118c-4c46-a917-4981a43fcad3",
   "metadata": {},
   "source": [
    "## Remind the model to use details from the customer's email"
   ]
  },
  {
   "cell_type": "code",
   "execution_count": 6,
   "id": "1d5ea7c8",
   "metadata": {
    "height": 302
   },
   "outputs": [
    {
     "name": "stdout",
     "output_type": "stream",
     "text": [
      "<think>\n",
      "Okay, let's tackle this problem step by step. So, the user provided a customer review along with their email and wants me to generate a reply based on the sentiment.\n",
      "\n",
      "First, I need to analyze the customer's review. Looking at the text, it starts with negative sentiments about price increases after a sale discount, mentions visible wear on parts, issues with warranty expiration leading to an additional purchase, and points out a decline in product quality due to brand loyalty.\n",
      "\n",
      "Since the sentiment is negative, according to the task instructions, I should apologize and suggest reaching out to customer service. The email needs to be specific about the issues mentioned without being too generic.\n",
      "\n",
      "I'll start by thanking them for their review as per their request when the sentiment is positive or neutral, but since it's negative here, an apology is needed. I need to acknowledge the problems they pointed out, such as price hikes and the motor issue, using exact quotes from their review if possible to show specificity.\n",
      "\n",
      "Also, a special offer like a discount on future purchases could help improve their experience positively without overstepping. Ending with appreciation for their feedback to encourage them to reach out again is key.\n",
      "\n",
      "Lastly, I'll make sure the tone is professional and concise, signing off as the AI customer agent.\n",
      "</think>\n",
      "\n",
      "Subject: Thank You for Your Feedback  \n",
      "\n",
      "Dear [Customer's Name],  \n",
      "\n",
      "Thank you for taking the time to share your thoughts about the product. We're sorry to hear that you've had a negative experience with the 17-piece system during the seasonal sale in November and that the parts have begun showing visible wear, including the motor issue we mentioned earlier.  \n",
      "\n",
      "We understand how important it is to have reliable products, especially when they're part of a trusted brand. Please know that we're committed to improving our offerings and addressing any issues you may have encountered. If there's anything additional you'd like us to look into or if you need further assistance, please don't hesitate to reach out to our customer service team directly at [Contact Information].  \n",
      "\n",
      "We hope this email finds you well and wish you a wonderful day!  \n",
      "\n",
      "Best regards,  \n",
      "AI Customer Agent\n"
     ]
    }
   ],
   "source": [
    "prompt = f\"\"\"\n",
    "You are a customer service AI assistant.\n",
    "Your task is to send an email reply to a valued customer.\n",
    "Given the customer email delimited by ```, \\\n",
    "Generate a reply to thank the customer for their review.\n",
    "If the sentiment is positive or neutral, thank them for \\\n",
    "their review.\n",
    "If the sentiment is negative, apologize and suggest that \\\n",
    "they can reach out to customer service. \n",
    "Make sure to use specific details from the review.\n",
    "Write in a concise and professional tone.\n",
    "Sign the email as `AI customer agent`.\n",
    "Customer review: ```{review}```\n",
    "Review sentiment: {sentiment}\n",
    "\"\"\"\n",
    "response = get_completion(prompt, temperature=0.7)\n",
    "print(response)"
   ]
  },
  {
   "cell_type": "code",
   "execution_count": 7,
   "id": "87ad4851",
   "metadata": {},
   "outputs": [
    {
     "name": "stdout",
     "output_type": "stream",
     "text": [
      "<think>\n",
      "Alright, let's tackle this query step by step. So, the user wants me to act as an AI customer service assistant responding to a valued customer. The email needs to thank them for their review based on its sentiment.\n",
      "\n",
      "First, I need to parse the given customer review. It mentions that prices jumped up after the holiday season, which is negative. The quality issues with the blender parts and the motor noise also point towards dissatisfaction. Plus, the customer had to buy a new one after warranty expired.\n",
      "\n",
      "Since the sentiment is negative, my response should apologize but also offer assistance through customer service. I need to make sure to mention specific details from the review, like price increases and the blender's quality issues, without making it too lengthy.\n",
      "\n",
      "The tone has to be professional yet empathetic. Sign off as AI customer agent, keeping it concise. I'll structure the email with a subject line, greeting, apology, explanation of the situation, offer to help further, and a thank you for their feedback.\n",
      "</think>\n",
      "\n",
      "Subject: Thank You for Your Feedback  \n",
      "\n",
      "Dear [Customer's Name],  \n",
      "\n",
      "Thank you for taking the time to share your thoughts regarding your purchase. We sincerely appreciate your feedback. However, it seems there has been an unexpected issue with your product experience.  \n",
      "\n",
      "We apologize for any inconvenience caused by the price increases or quality concerns you've mentioned. Our team is here to assist you if you have any further questions or need help with your blender. Please don't hesitate to reach out to our customer service team at [contact information] if you'd like to discuss this further or address any issues promptly.  \n",
      "\n",
      "Thank you for giving us the opportunity to improve. We hope to hear from you soon and wish you a great day!  \n",
      "\n",
      "Best regards,  \n",
      "AI Customer Agent\n"
     ]
    }
   ],
   "source": [
    "prompt = f\"\"\"\n",
    "You are a customer service AI assistant.\n",
    "Your task is to send an email reply to a valued customer.\n",
    "Given the customer email delimited by ```, \\\n",
    "Generate a reply to thank the customer for their review.\n",
    "If the sentiment is positive or neutral, thank them for \\\n",
    "their review.\n",
    "If the sentiment is negative, apologize and suggest that \\\n",
    "they can reach out to customer service. \n",
    "Make sure to use specific details from the review.\n",
    "Write in a concise and professional tone.\n",
    "Sign the email as `AI customer agent`.\n",
    "Customer review: ```{review}```\n",
    "Review sentiment: {sentiment}\n",
    "\"\"\"\n",
    "response = get_completion(prompt, temperature=0.7)\n",
    "print(response)"
   ]
  },
  {
   "cell_type": "markdown",
   "id": "31e317ad-9e51-4e7a-90c3-d88e7bf8a98c",
   "metadata": {},
   "source": [
    "## Try experimenting on your own!"
   ]
  },
  {
   "cell_type": "code",
   "execution_count": null,
   "id": "ffa65c7e",
   "metadata": {
    "height": 30
   },
   "outputs": [],
   "source": []
  }
 ],
 "metadata": {
  "kernelspec": {
   "display_name": "llms",
   "language": "python",
   "name": "python3"
  },
  "language_info": {
   "codemirror_mode": {
    "name": "ipython",
    "version": 3
   },
   "file_extension": ".py",
   "mimetype": "text/x-python",
   "name": "python",
   "nbconvert_exporter": "python",
   "pygments_lexer": "ipython3",
   "version": "3.11.11"
  }
 },
 "nbformat": 4,
 "nbformat_minor": 5
}
